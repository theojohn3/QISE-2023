{
 "cells": [
  {
   "cell_type": "code",
   "execution_count": 7,
   "id": "f3618f88-8499-4dae-9d9c-dfcbca4eeebb",
   "metadata": {},
   "outputs": [
    {
     "data": {
      "text/html": [
       "<pre style=\"word-wrap: normal;white-space: pre;background: #fff0;line-height: 1.1;font-family: &quot;Courier New&quot;,Courier,monospace\">     ┌───┐\n",
       "  q: ┤ H ├\n",
       "     └───┘\n",
       "c: 1/═════\n",
       "          </pre>"
      ],
      "text/plain": [
       "     ┌───┐\n",
       "  q: ┤ H ├\n",
       "     └───┘\n",
       "c: 1/═════\n",
       "          "
      ]
     },
     "execution_count": 7,
     "metadata": {},
     "output_type": "execute_result"
    }
   ],
   "source": [
    "#Number 1: Create a quantum circuit with Qiskit that consists of a single qubit and a Hadamard gate applied to it. Print the circuit and draw its visualization using the draw method.\n",
    "\n",
    "from qiskit import QuantumCircuit #import qiskit\n",
    "circ1 = QuantumCircuit(1,1)\n",
    "circ1.h(0)\n",
    "circ1.draw()"
   ]
  },
  {
   "cell_type": "code",
   "execution_count": 23,
   "id": "f11059ff-a5c1-409b-8952-d8d223b96114",
   "metadata": {},
   "outputs": [
    {
     "name": "stdout",
     "output_type": "stream",
     "text": [
      "{'1': 503, '0': 497}\n"
     ]
    }
   ],
   "source": [
    "#Number 2: Simulate the above circuit using the Aer `qasm_simulator` provided by Qiskit using 1000 shots. Print the result of your shots. Does it make sense?\n",
    "from qiskit import Aer, execute # Import Aer and execute\n",
    "\n",
    "backend_sim = Aer.get_backend('qasm_simulator')\n",
    "sim = execute(circ1, backend_sim, shots = 1000)\n",
    "sim_result = sim.result()\n",
    "counts = sim_result.get_counts(circ1)\n",
    "print(counts)"
   ]
  },
  {
   "cell_type": "markdown",
   "id": "eb498a83-0bc4-4ac9-977d-18500d5ffc2e",
   "metadata": {},
   "source": [
    "This result makes sense because the Hadamard gate is takes a superposition of each state, and once measured it collapses to state 0 approximatel 50% of the time and the other 50% to state 1."
   ]
  },
  {
   "cell_type": "code",
   "execution_count": 24,
   "id": "fe813cf8-a681-4e9e-8e40-76bae45c5e47",
   "metadata": {},
   "outputs": [
    {
     "name": "stdout",
     "output_type": "stream",
     "text": [
      "Statevector([0.+0.j, 1.+0.j],\n",
      "            dims=(2,))\n"
     ]
    }
   ],
   "source": [
    "#Number 3: Simulate the above circuit using the Aer `statevector_simulator` provided by Qiskit. Print the resulting statevector.\n",
    "sim_statevector = Aer.get_backend('aer_simulator_statevector')\n",
    "job_statevector = sim_statevector.run(circ1, shots=1)\n",
    "\n",
    "backend = Aer.get_backend('statevector_simulator')\n",
    "sim = execute(circ1, backend, shots = 1, memory = True)\n",
    "sim_result = sim.result()\n",
    "\n",
    "print(sim_result.get_statevector(circ1))\n"
   ]
  },
  {
   "cell_type": "code",
   "execution_count": null,
   "id": "151d3bd7-c150-4cc7-a5ab-901f288c9a6e",
   "metadata": {},
   "outputs": [],
   "source": []
  }
 ],
 "metadata": {
  "kernelspec": {
   "display_name": "Python 3 [Default]",
   "language": "python",
   "name": "python3"
  },
  "language_info": {
   "codemirror_mode": {
    "name": "ipython",
    "version": 3
   },
   "file_extension": ".py",
   "mimetype": "text/x-python",
   "name": "python",
   "nbconvert_exporter": "python",
   "pygments_lexer": "ipython3",
   "version": "3.9.10"
  }
 },
 "nbformat": 4,
 "nbformat_minor": 5
}
